{
 "cells": [
  {
   "cell_type": "code",
   "execution_count": 1,
   "metadata": {
    "collapsed": false
   },
   "outputs": [],
   "source": [
    "from sympy import *\n",
    "init_printing(use_unicode=True)"
   ]
  },
  {
   "cell_type": "markdown",
   "metadata": {},
   "source": [
    "Find a basis for the set of vectors:\n",
    "$$\\Bigg\\{ \\begin{bmatrix}1 \\\\ 2 \\\\ 1 \\end{bmatrix} ,\n",
    "\\begin{bmatrix}-1 \\\\ -1 \\\\ 1 \\end{bmatrix},\n",
    "\\begin{bmatrix}1 \\\\ 4 \\\\ 5 \\end{bmatrix},\n",
    "\\begin{bmatrix}3 \\\\ 4 \\\\ -1 \\end{bmatrix} ,\n",
    "\\begin{bmatrix}0 \\\\ 1 \\\\ 2 \\end{bmatrix} ,\n",
    "\\begin{bmatrix}4 \\\\ 9 \\\\ 6 \\end{bmatrix} \\Bigg\\}$$"
   ]
  },
  {
   "cell_type": "markdown",
   "metadata": {},
   "source": [
    "There are 2 steps to finding a basis.\n",
    "1.) Make a matrix with the vectors as columns."
   ]
  },
  {
   "cell_type": "code",
   "execution_count": 7,
   "metadata": {
    "collapsed": false
   },
   "outputs": [
    {
     "data": {
      "text/latex": [
       "$$\\left[\\begin{matrix}1 & -1 & 1 & 3 & 0 & 4\\\\2 & -1 & 4 & 4 & 1 & 9\\\\1 & 1 & 5 & -1 & 2 & 6\\end{matrix}\\right]$$"
      ],
      "text/plain": [
       "⎡1  -1  1  3   0  4⎤\n",
       "⎢                  ⎥\n",
       "⎢2  -1  4  4   1  9⎥\n",
       "⎢                  ⎥\n",
       "⎣1  1   5  -1  2  6⎦"
      ]
     },
     "execution_count": 7,
     "metadata": {},
     "output_type": "execute_result"
    }
   ],
   "source": [
    "A = Matrix([[1,-1,1,3,0,4],\n",
    "            [2,-1,4,4,1,9],\n",
    "            [1,1,5,-1,2,6]])\n",
    "A"
   ]
  },
  {
   "cell_type": "markdown",
   "metadata": {
    "collapsed": false
   },
   "source": [
    "2.) Find the row reduced echelon form. The pivot columns of the original vectors form your basis.\n"
   ]
  },
  {
   "cell_type": "code",
   "execution_count": 8,
   "metadata": {
    "collapsed": false
   },
   "outputs": [
    {
     "data": {
      "text/latex": [
       "$$\\left ( \\left[\\begin{matrix}1 & 0 & 3 & 1 & 1 & 5\\\\0 & 1 & 2 & -2 & 1 & 1\\\\0 & 0 & 0 & 0 & 0 & 0\\end{matrix}\\right], \\quad \\left [ 0, \\quad 1\\right ]\\right )$$"
      ],
      "text/plain": [
       "⎛⎡1  0  3  1   1  5⎤, [0, 1]⎞\n",
       "⎜⎢                 ⎥        ⎟\n",
       "⎜⎢0  1  2  -2  1  1⎥        ⎟\n",
       "⎜⎢                 ⎥        ⎟\n",
       "⎝⎣0  0  0  0   0  0⎦        ⎠"
      ]
     },
     "execution_count": 8,
     "metadata": {},
     "output_type": "execute_result"
    }
   ],
   "source": [
    "A.rref()"
   ]
  },
  {
   "cell_type": "markdown",
   "metadata": {
    "collapsed": false
   },
   "source": [
    "This means the basis of the vectors is \n",
    "$$\\Bigg\\{ \\begin{bmatrix}1 \\\\ 2 \\\\ 1 \\end{bmatrix} ,\n",
    "\\begin{bmatrix}-1 \\\\ -1 \\\\ 1 \\end{bmatrix} \\Bigg\\}$$"
   ]
  },
  {
   "cell_type": "code",
   "execution_count": null,
   "metadata": {
    "collapsed": false
   },
   "outputs": [],
   "source": [
    "B.rref()"
   ]
  },
  {
   "cell_type": "code",
   "execution_count": null,
   "metadata": {
    "collapsed": false
   },
   "outputs": [],
   "source": [
    "B.nullspace()"
   ]
  },
  {
   "cell_type": "code",
   "execution_count": null,
   "metadata": {
    "collapsed": false
   },
   "outputs": [],
   "source": [
    "C = Matrix([[1,1,1,1],[2,1,4,3],[3,4,1,2]])\n",
    "C"
   ]
  },
  {
   "cell_type": "code",
   "execution_count": null,
   "metadata": {
    "collapsed": false
   },
   "outputs": [],
   "source": [
    "C.rref()"
   ]
  },
  {
   "cell_type": "code",
   "execution_count": null,
   "metadata": {
    "collapsed": false
   },
   "outputs": [],
   "source": [
    "C.nullspace()"
   ]
  },
  {
   "cell_type": "code",
   "execution_count": null,
   "metadata": {
    "collapsed": false
   },
   "outputs": [],
   "source": [
    "D = Matrix([[2,-3,1,1],[1,1,-1,2]])\n",
    "D"
   ]
  },
  {
   "cell_type": "code",
   "execution_count": null,
   "metadata": {
    "collapsed": false
   },
   "outputs": [],
   "source": [
    "D.rref()"
   ]
  },
  {
   "cell_type": "code",
   "execution_count": null,
   "metadata": {
    "collapsed": false
   },
   "outputs": [],
   "source": [
    "a, b, c = symbols('a b c')\n",
    "E = Matrix([[1,1,2,a],[1,-1,0,b],[1,1,-2,c]])\n",
    "E"
   ]
  },
  {
   "cell_type": "code",
   "execution_count": null,
   "metadata": {
    "collapsed": false
   },
   "outputs": [],
   "source": [
    "E.rref()"
   ]
  },
  {
   "cell_type": "code",
   "execution_count": null,
   "metadata": {
    "collapsed": true
   },
   "outputs": [],
   "source": [
    "a, b, c = sympy.symbols('a b c')\n"
   ]
  },
  {
   "cell_type": "code",
   "execution_count": null,
   "metadata": {
    "collapsed": false
   },
   "outputs": [],
   "source": [
    "L = sympy.Matrix([1,1,1])\n",
    "L"
   ]
  },
  {
   "cell_type": "code",
   "execution_count": null,
   "metadata": {
    "collapsed": false
   },
   "outputs": [],
   "source": [
    "M = Matrix([1,-1,1])\n",
    "M"
   ]
  },
  {
   "cell_type": "code",
   "execution_count": null,
   "metadata": {
    "collapsed": false
   },
   "outputs": [],
   "source": [
    "L.cross(M)"
   ]
  },
  {
   "cell_type": "code",
   "execution_count": null,
   "metadata": {
    "collapsed": false
   },
   "outputs": [],
   "source": [
    "R = Matrix([[1,1,2,1],[1,-1,0,0],[1,1,-2,0]])\n",
    "R"
   ]
  },
  {
   "cell_type": "code",
   "execution_count": null,
   "metadata": {
    "collapsed": false
   },
   "outputs": [],
   "source": [
    "R.rref()"
   ]
  },
  {
   "cell_type": "code",
   "execution_count": null,
   "metadata": {
    "collapsed": false
   },
   "outputs": [],
   "source": [
    "R = L*a\n",
    "R"
   ]
  },
  {
   "cell_type": "code",
   "execution_count": null,
   "metadata": {
    "collapsed": false
   },
   "outputs": [],
   "source": [
    "from sympy.holonomic import DifferentialOperators, HolonomicFunction\n",
    "R, D = DifferentialOperators(ZZ.old_poly_ring(x), 'D')\n",
    "HolonomicFunction(D**2 + 1, x, 0, [0, 1])\n"
   ]
  },
  {
   "cell_type": "code",
   "execution_count": null,
   "metadata": {
    "collapsed": false
   },
   "outputs": [],
   "source": [
    "M = Matrix([[1,2,1],[1,3,1]])\n",
    "M"
   ]
  },
  {
   "cell_type": "code",
   "execution_count": 6,
   "metadata": {
    "collapsed": false
   },
   "outputs": [
    {
     "data": {
      "text/latex": [
       "$$\\left[\\begin{matrix}2 & 1 & 1\\\\1 & -2 & 0\\end{matrix}\\right]$$"
      ],
      "text/plain": [
       "⎡2  1   1⎤\n",
       "⎢        ⎥\n",
       "⎣1  -2  0⎦"
      ]
     },
     "execution_count": 6,
     "metadata": {},
     "output_type": "execute_result"
    }
   ],
   "source": [
    "R = Matrix([[2,1,1],[1,-2,0]])\n",
    "R"
   ]
  },
  {
   "cell_type": "code",
   "execution_count": 7,
   "metadata": {
    "collapsed": false
   },
   "outputs": [
    {
     "data": {
      "text/latex": [
       "$$\\left ( \\left[\\begin{matrix}1 & 0 & \\frac{2}{5}\\\\0 & 1 & \\frac{1}{5}\\end{matrix}\\right], \\quad \\left [ 0, \\quad 1\\right ]\\right )$$"
      ],
      "text/plain": [
       "⎛⎡1  0  2/5⎤, [0, 1]⎞\n",
       "⎜⎢         ⎥        ⎟\n",
       "⎝⎣0  1  1/5⎦        ⎠"
      ]
     },
     "execution_count": 7,
     "metadata": {},
     "output_type": "execute_result"
    }
   ],
   "source": [
    "R.rref()"
   ]
  },
  {
   "cell_type": "code",
   "execution_count": 18,
   "metadata": {
    "collapsed": false
   },
   "outputs": [
    {
     "data": {
      "text/latex": [
       "$$\\left[\\begin{matrix}2 & 1\\\\1 & -2\\end{matrix}\\right]$$"
      ],
      "text/plain": [
       "⎡2  1 ⎤\n",
       "⎢     ⎥\n",
       "⎣1  -2⎦"
      ]
     },
     "execution_count": 18,
     "metadata": {},
     "output_type": "execute_result"
    }
   ],
   "source": [
    "LOL = Matrix([[2,1],[1,-2]])\n",
    "LOL"
   ]
  },
  {
   "cell_type": "code",
   "execution_count": 19,
   "metadata": {
    "collapsed": false
   },
   "outputs": [
    {
     "data": {
      "text/latex": [
       "$$\\left[\\begin{matrix}\\frac{2}{5} & \\frac{1}{5}\\\\\\frac{1}{5} & - \\frac{2}{5}\\end{matrix}\\right]$$"
      ],
      "text/plain": [
       "⎡2/5  1/5 ⎤\n",
       "⎢         ⎥\n",
       "⎣1/5  -2/5⎦"
      ]
     },
     "execution_count": 19,
     "metadata": {},
     "output_type": "execute_result"
    }
   ],
   "source": [
    "LOL.inv()"
   ]
  },
  {
   "cell_type": "code",
   "execution_count": 14,
   "metadata": {
    "collapsed": false
   },
   "outputs": [
    {
     "data": {
      "text/latex": [
       "$$\\left[\\begin{matrix}2 & 1 & 1 & 0\\\\1 & -2 & 0 & 1\\end{matrix}\\right]$$"
      ],
      "text/plain": [
       "⎡2  1   1  0⎤\n",
       "⎢           ⎥\n",
       "⎣1  -2  0  1⎦"
      ]
     },
     "execution_count": 14,
     "metadata": {},
     "output_type": "execute_result"
    }
   ],
   "source": [
    "LOL1 = Matrix([[2,1,1,0],[1,-2,0,1]])\n",
    "LOL1"
   ]
  },
  {
   "cell_type": "code",
   "execution_count": 16,
   "metadata": {
    "collapsed": false
   },
   "outputs": [
    {
     "data": {
      "text/latex": [
       "$$\\left ( \\left[\\begin{matrix}1 & 0 & \\frac{2}{5} & \\frac{1}{5}\\\\0 & 1 & \\frac{1}{5} & - \\frac{2}{5}\\end{matrix}\\right], \\quad \\left [ 0, \\quad 1\\right ]\\right )$$"
      ],
      "text/plain": [
       "⎛⎡1  0  2/5  1/5 ⎤, [0, 1]⎞\n",
       "⎜⎢               ⎥        ⎟\n",
       "⎝⎣0  1  1/5  -2/5⎦        ⎠"
      ]
     },
     "execution_count": 16,
     "metadata": {},
     "output_type": "execute_result"
    }
   ],
   "source": [
    "LOL1.rref()"
   ]
  },
  {
   "cell_type": "code",
   "execution_count": null,
   "metadata": {
    "collapsed": true
   },
   "outputs": [],
   "source": []
  }
 ],
 "metadata": {
  "anaconda-cloud": {},
  "kernelspec": {
   "display_name": "Python [Root]",
   "language": "python",
   "name": "Python [Root]"
  },
  "language_info": {
   "codemirror_mode": {
    "name": "ipython",
    "version": 3
   },
   "file_extension": ".py",
   "mimetype": "text/x-python",
   "name": "python",
   "nbconvert_exporter": "python",
   "pygments_lexer": "ipython3",
   "version": "3.5.2"
  }
 },
 "nbformat": 4,
 "nbformat_minor": 2
}
