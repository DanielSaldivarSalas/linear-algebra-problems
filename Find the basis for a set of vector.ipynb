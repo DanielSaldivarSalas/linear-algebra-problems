{
 "cells": [
  {
   "cell_type": "code",
   "execution_count": 1,
   "metadata": {
    "collapsed": true
   },
   "outputs": [],
   "source": [
    "from sympy import *\n",
    "init_printing(use_unicode=True)"
   ]
  },
  {
   "cell_type": "markdown",
   "metadata": {},
   "source": [
    "Find a basis for the set of vectors:\n",
    "$$\\Bigg\\{ \\begin{bmatrix}1 \\\\ 2 \\\\ 1 \\end{bmatrix} ,\n",
    "\\begin{bmatrix}-1 \\\\ -1 \\\\ 1 \\end{bmatrix},\n",
    "\\begin{bmatrix}1 \\\\ 4 \\\\ 5 \\end{bmatrix},\n",
    "\\begin{bmatrix}3 \\\\ 4 \\\\ -1 \\end{bmatrix} ,\n",
    "\\begin{bmatrix}0 \\\\ 1 \\\\ 2 \\end{bmatrix} ,\n",
    "\\begin{bmatrix}4 \\\\ 9 \\\\ 6 \\end{bmatrix} \\Bigg\\}$$"
   ]
  },
  {
   "cell_type": "code",
   "execution_count": 2,
   "metadata": {
    "collapsed": false
   },
   "outputs": [
    {
     "data": {
      "text/latex": [
       "$$\\left[\\begin{matrix}1 & -1 & 1 & 3 & 0 & 4\\\\2 & -1 & 4 & 4 & 1 & 9\\\\1 & 1 & 5 & -1 & 2 & 6\\end{matrix}\\right]$$"
      ],
      "text/plain": [
       "⎡1  -1  1  3   0  4⎤\n",
       "⎢                  ⎥\n",
       "⎢2  -1  4  4   1  9⎥\n",
       "⎢                  ⎥\n",
       "⎣1  1   5  -1  2  6⎦"
      ]
     },
     "execution_count": 2,
     "metadata": {},
     "output_type": "execute_result"
    }
   ],
   "source": [
    "A = Matrix([[1,-1,1,3,0,4],\n",
    "            [2,-1,4,4,1,9],\n",
    "            [1,1,5,-1,2,6]])\n",
    "A"
   ]
  },
  {
   "cell_type": "markdown",
   "metadata": {},
   "source": [
    "2.) Find the row reduced echelon form. The pivot columns of the original vectors form your basis.\n"
   ]
  },
  {
   "cell_type": "code",
   "execution_count": 3,
   "metadata": {
    "collapsed": false,
    "scrolled": true
   },
   "outputs": [
    {
     "data": {
      "text/latex": [
       "$$\\left ( \\left[\\begin{matrix}1 & 0 & 3 & 1 & 1 & 5\\\\0 & 1 & 2 & -2 & 1 & 1\\\\0 & 0 & 0 & 0 & 0 & 0\\end{matrix}\\right], \\quad \\left [ 0, \\quad 1\\right ]\\right )$$"
      ],
      "text/plain": [
       "⎛⎡1  0  3  1   1  5⎤, [0, 1]⎞\n",
       "⎜⎢                 ⎥        ⎟\n",
       "⎜⎢0  1  2  -2  1  1⎥        ⎟\n",
       "⎜⎢                 ⎥        ⎟\n",
       "⎝⎣0  0  0  0   0  0⎦        ⎠"
      ]
     },
     "execution_count": 3,
     "metadata": {},
     "output_type": "execute_result"
    }
   ],
   "source": [
    "A.rref()"
   ]
  },
  {
   "cell_type": "markdown",
   "metadata": {},
   "source": [
    "This means the basis of the vectors is \n",
    "$$\\Bigg\\{ \\begin{bmatrix}1 \\\\ 2 \\\\ 1 \\end{bmatrix} ,\n",
    "\\begin{bmatrix}-1 \\\\ -1 \\\\ 1 \\end{bmatrix} \\Bigg\\}$$"
   ]
  },
  {
   "cell_type": "code",
   "execution_count": null,
   "metadata": {
    "collapsed": true
   },
   "outputs": [],
   "source": []
  }
 ],
 "metadata": {
  "kernelspec": {
   "display_name": "Python [Root]",
   "language": "python",
   "name": "Python [Root]"
  },
  "language_info": {
   "codemirror_mode": {
    "name": "ipython",
    "version": 3
   },
   "file_extension": ".py",
   "mimetype": "text/x-python",
   "name": "python",
   "nbconvert_exporter": "python",
   "pygments_lexer": "ipython3",
   "version": "3.5.2"
  }
 },
 "nbformat": 4,
 "nbformat_minor": 2
}
